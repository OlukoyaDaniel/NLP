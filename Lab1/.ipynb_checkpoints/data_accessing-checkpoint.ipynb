{
 "cells": [
  {
   "cell_type": "markdown",
   "metadata": {},
   "source": [
    "### Creating text documents to store the various classes of the data respectively"
   ]
  },
  {
   "cell_type": "code",
   "execution_count": null,
   "metadata": {},
   "outputs": [],
   "source": [
    "positive_words = open(\"positive_words.txt\", \"w+\")\n",
    "negative_words = open(\"negative_words.txt\", \"w+\")\n",
    "positive_documents = open(\"positive_documents.txt\", \"w+\")\n",
    "negative_documents = open(\"negative_documents.txt\", \"w+\")\n",
    "vocabulary = open(\"vocabulary.txt\", \"w+\")\n",
    "documents = open(\"documents.txt\", \"w+\")"
   ]
  },
  {
   "cell_type": "markdown",
   "metadata": {},
   "source": [
    "### Creating lists to store the data respectively gotten from the text documents"
   ]
  },
  {
   "cell_type": "code",
   "execution_count": 2,
   "metadata": {},
   "outputs": [],
   "source": [
    "lpositive_words = []\n",
    "lnegative_words = []\n",
    "lpositive_documents = []\n",
    "lnegative_documents = []\n",
    "lvocabulary = []\n",
    "ldocuments = []"
   ]
  },
  {
   "cell_type": "markdown",
   "metadata": {},
   "source": [
    "### Importing all the text documents to access the data and tokenizing the words"
   ]
  },
  {
   "cell_type": "code",
   "execution_count": 3,
   "metadata": {},
   "outputs": [],
   "source": [
    "with open('yelp_labelled.txt') as y:\n",
    "    yelp_content = y.readlines()\n",
    "    yelp_content = [x.replace(\"-\", '\\n').replace(\":\", '\\n').replace(\";\", '\\n').replace(\"*\", '\\n').replace(\"%\", '\\n').replace(\"&\", '\\n').replace(\"/\", '\\n').strip('\\n').replace('.', '').replace('!', '').replace('\"', '').replace(\")\", '').replace(\"(\",\n",
    "                                                                                                          '').replace(\n",
    "        \"?\", '').replace(\",\", '') for x in yelp_content]\n"
   ]
  },
  {
   "cell_type": "code",
   "execution_count": 4,
   "metadata": {},
   "outputs": [],
   "source": [
    "for docs in yelp_content:\n",
    "    clss = docs.split('\\t')\n",
    "    documents.write(clss[0] + '\\n')\n",
    "    ldocuments.append(clss[0])\n",
    "    if clss[1] == '1':\n",
    "        positive_documents.write(clss[0] + '\\n')\n",
    "        lpositive_documents.append(clss[0])\n",
    "    elif clss[1] == '0':\n",
    "        negative_documents.write(clss[0] + '\\n')\n",
    "        lnegative_documents.append(clss[0])\n"
   ]
  },
  {
   "cell_type": "code",
   "execution_count": 5,
   "metadata": {},
   "outputs": [],
   "source": [
    "with open('imdb_labelled.txt') as i:\n",
    "    imdb_content = i.readlines()\n",
    "    imdb_content = [x.replace(\"-\", '\\n').replace(\";\", '\\n').replace(\":\", '\\n').replace(\"/\", '\\n').replace(\"%\", '\\n').replace(\"&\", '\\n').replace(\"*\", '\\n').strip('\\n').replace('.', '').replace('!', '').replace('\"', '').replace(\")\", '').replace(\"(\",\n",
    "                                                                                                          '').replace(\n",
    "        \"?\", '').replace(\",\", '') for x in imdb_content]\n"
   ]
  },
  {
   "cell_type": "code",
   "execution_count": 6,
   "metadata": {},
   "outputs": [],
   "source": [
    "for docs in imdb_content:\n",
    "    clss = docs.split('\\t')\n",
    "    documents.write(clss[0] + '\\n')\n",
    "    ldocuments.append(clss[0])\n",
    "    if clss[1] == '1':\n",
    "        positive_documents.write(clss[0] + '\\n')\n",
    "        lpositive_documents.append(clss[0])\n",
    "    elif clss[1] == '0':\n",
    "        negative_documents.write(clss[0] + '\\n')\n",
    "        lnegative_documents.append(clss[0])"
   ]
  },
  {
   "cell_type": "code",
   "execution_count": 7,
   "metadata": {},
   "outputs": [],
   "source": [
    "with open('amazon_cells_labelled.txt') as a:\n",
    "    amazon_content = a.readlines()\n",
    "    amazon_content = [x.replace(\"-\", '\\n').replace(\";\", '\\n').replace(\":\", '\\n').replace(\"/\", '\\n').replace(\"%\", '\\n').replace(\"&\", '\\n').replace(\"*\", '\\n').strip('\\n').replace('.', '').replace('!', '').replace('\"', '').replace(\")\", '').replace(\"(\",\n",
    "                                                                                                          '').replace(\n",
    "        \"?\", '').replace(\",\", '') for x in amazon_content]"
   ]
  },
  {
   "cell_type": "code",
   "execution_count": 8,
   "metadata": {},
   "outputs": [],
   "source": [
    "for docs in amazon_content:\n",
    "    clss = docs.split('\\t')\n",
    "    documents.write(clss[0] + '\\n')\n",
    "    ldocuments.append(clss[0])\n",
    "    if clss[1] == '1':\n",
    "        positive_documents.write(clss[0] + '\\n')\n",
    "        lpositive_documents.append(clss[0])\n",
    "    elif clss[1] == '0':\n",
    "        negative_documents.write(clss[0] + '\\n')\n",
    "        lnegative_documents.append(clss[0])"
   ]
  },
  {
   "cell_type": "code",
   "execution_count": 9,
   "metadata": {},
   "outputs": [],
   "source": [
    "for doc in ldocuments:\n",
    "    words = doc.split()\n",
    "    for word in words:\n",
    "        vocabulary.write(word.lower() + '\\n')"
   ]
  },
  {
   "cell_type": "code",
   "execution_count": 10,
   "metadata": {},
   "outputs": [],
   "source": [
    "for doc in lpositive_documents:\n",
    "    words = doc.split()\n",
    "    for word in words:\n",
    "        positive_words.write(word.lower() + '\\n')"
   ]
  },
  {
   "cell_type": "code",
   "execution_count": 11,
   "metadata": {},
   "outputs": [],
   "source": [
    "for doc in lnegative_documents:\n",
    "    words = doc.split()\n",
    "    for word in words:\n",
    "        negative_words.write(word.lower() + '\\n')"
   ]
  },
  {
   "cell_type": "code",
   "execution_count": null,
   "metadata": {},
   "outputs": [],
   "source": []
  },
  {
   "cell_type": "code",
   "execution_count": null,
   "metadata": {},
   "outputs": [],
   "source": []
  }
 ],
 "metadata": {
  "kernelspec": {
   "display_name": "Python 3",
   "language": "python",
   "name": "python3"
  },
  "language_info": {
   "codemirror_mode": {
    "name": "ipython",
    "version": 3
   },
   "file_extension": ".py",
   "mimetype": "text/x-python",
   "name": "python",
   "nbconvert_exporter": "python",
   "pygments_lexer": "ipython3",
   "version": "3.7.0"
  }
 },
 "nbformat": 4,
 "nbformat_minor": 2
}
