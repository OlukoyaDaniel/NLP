{
 "cells": [
  {
   "cell_type": "code",
   "execution_count": null,
   "metadata": {},
   "outputs": [],
   "source": [
    "import csv\n"
   ]
  },
  {
   "cell_type": "code",
   "execution_count": null,
   "metadata": {},
   "outputs": [],
   "source": [
    "with open('vocabulary.txt') as v:\n",
    "    vocabulary = v.readlines()\n",
    "    vocabulary = [x.strip('\\n') for x in vocabulary]"
   ]
  },
  {
   "cell_type": "code",
   "execution_count": null,
   "metadata": {},
   "outputs": [],
   "source": [
    "with open('documents.txt') as d:\n",
    "    documents = d.readlines()\n",
    "    documents = [x.strip('\\n') for x in documents]"
   ]
  },
  {
   "cell_type": "code",
   "execution_count": null,
   "metadata": {},
   "outputs": [],
   "source": [
    "with open('positive_documents.txt') as pd:\n",
    "    positive_documents = pd.readlines()\n",
    "    positive_documents = [x.strip('\\n') for x in positive_documents]"
   ]
  },
  {
   "cell_type": "code",
   "execution_count": null,
   "metadata": {},
   "outputs": [],
   "source": [
    "with open('negative_documents.txt') as nd:\n",
    "    negative_documents = nd.readlines()\n",
    "    negative_documents = [x.strip('\\n') for x in negative_documents]"
   ]
  },
  {
   "cell_type": "code",
   "execution_count": null,
   "metadata": {},
   "outputs": [],
   "source": [
    "with open('positive_words.txt') as pw:\n",
    "    positive_words = pw.readlines()\n",
    "    positive_words = [x.strip('\\n') for x in positive_words]"
   ]
  },
  {
   "cell_type": "code",
   "execution_count": null,
   "metadata": {},
   "outputs": [],
   "source": [
    "with open('negative_words.txt') as nw:\n",
    "    negative_words = nw.readlines()\n",
    "    negative_words = [x.strip('\\n') for x in negative_words]"
   ]
  },
  {
   "cell_type": "code",
   "execution_count": null,
   "metadata": {},
   "outputs": [],
   "source": [
    "word_likelihood = dict()"
   ]
  },
  {
   "cell_type": "code",
   "execution_count": null,
   "metadata": {},
   "outputs": [],
   "source": [
    "for word in vocabulary:\n",
    "    if word not in word_likelihood:\n",
    "        negative_word_count = 0\n",
    "        positive_word_count = 0\n",
    "        for pword in positive_words:\n",
    "            if word == pword:\n",
    "                positive_word_count += 1\n",
    "        positive_word_freq = (positive_word_count + 1) / (len(positive_words) + len(word_likelihood))\n",
    "        for nword in negative_words:\n",
    "            if word == nword:\n",
    "                negative_word_count += 1\n",
    "        negative_word_freq = (negative_word_count + 1) / (len(negative_words) + len(word_likelihood))\n",
    "        word_likelihood[word] = {'positive': positive_word_freq, 'negative': negative_word_freq, 'count': 1}\n",
    "\n",
    "    else:\n",
    "        word_likelihood[word]['count'] += 1"
   ]
  },
  {
   "cell_type": "code",
   "execution_count": null,
   "metadata": {},
   "outputs": [],
   "source": [
    "with open('Word_Likelihood.csv', mode='w') as csv_file:\n",
    "    fieldnames = ['word', 'positive', 'negative', 'word_count']\n",
    "    writer = csv.DictWriter(csv_file, fieldnames=fieldnames)\n",
    "\n",
    "    writer.writeheader()\n",
    "    for word in word_likelihood:\n",
    "        writer.writerow({'word': word, 'positive': word_likelihood.get(word).get('positive'),\n",
    "                         'negative': word_likelihood.get(word).get('negative'),\n",
    "                         'word_count': word_likelihood.get(word).get('count')})"
   ]
  }
 ],
 "metadata": {
  "kernelspec": {
   "display_name": "Python 3",
   "language": "python",
   "name": "python3"
  },
  "language_info": {
   "codemirror_mode": {
    "name": "ipython",
    "version": 3
   },
   "file_extension": ".py",
   "mimetype": "text/x-python",
   "name": "python",
   "nbconvert_exporter": "python",
   "pygments_lexer": "ipython3",
   "version": "3.7.0"
  }
 },
 "nbformat": 4,
 "nbformat_minor": 2
}
