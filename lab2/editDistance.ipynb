{
 "cells": [
  {
   "cell_type": "code",
   "execution_count": null,
   "metadata": {
    "collapsed": true
   },
   "outputs": [],
   "source": [
    "import numpy as np"
   ]
  },
  {
   "cell_type": "code",
   "execution_count": null,
   "metadata": {},
   "outputs": [],
   "source": [
    "def minEditDistance(sourceString, targetString):\n",
    "\n",
    "    rows = len(sourceString)+1\n",
    "    cols = len(targetString)+1\n",
    "    dist = np.zeros((rows+1,cols+1))\n",
    "    for i in range(1, rows):\n",
    "        dist[i][0] = i\n",
    "    for i in range(1, cols):\n",
    "        dist[0][i] = i\n",
    "\n",
    "    for col in range(1, cols):\n",
    "        for row in range(1, rows):\n",
    "            if sourceString[row-1] == targetString[col-1]:\n",
    "                cost = 0\n",
    "            else:\n",
    "                cost = 2\n",
    "            dist[row][col] = min(dist[row-1][col] + 1,      # deletion\n",
    "                                 dist[row][col-1] + 1,      # insertion\n",
    "                                 dist[row-1][col-1] + cost) # substitution\n",
    "\n",
    "\n",
    "\n",
    "    return dist[row][col]\n",
    "\n"
   ]
  },
  {
   "cell_type": "code",
   "execution_count": null,
   "metadata": {},
   "outputs": [],
   "source": [
    "def run():\n",
    "    sourceString=input('Enter source string: ')\n",
    "    targetString=input('Enter target string: ')\n",
    "    med = minEditDistance(str(sourceString), str(targetString))\n",
    "    print('The min edit distance between \"' + str(sourceString) + '\" and \"' + str(targetString) + '\" is ' + str(med))\n"
   ]
  }
 ],
 "metadata": {
  "kernelspec": {
   "display_name": "Python 2",
   "language": "python",
   "name": "python2"
  },
  "language_info": {
   "codemirror_mode": {
    "name": "ipython",
    "version": 2
   },
   "file_extension": ".py",
   "mimetype": "text/x-python",
   "name": "python",
   "nbconvert_exporter": "python",
   "pygments_lexer": "ipython2",
   "version": "2.7.6"
  }
 },
 "nbformat": 4,
 "nbformat_minor": 0
}
