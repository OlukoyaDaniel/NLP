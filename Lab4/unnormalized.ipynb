{
 "cells": [
  {
   "cell_type": "code",
   "execution_count": null,
   "metadata": {
    "collapsed": true
   },
   "outputs": [],
   "source": [
    "'''\n",
    "References\n",
    "https://www.youtube.com/watch?v=G4UVJoGFAv0\n",
    "http://regexlib.com/DisplayPatterns.aspx\n",
    "'''\n",
    "\n",
    "import nltk\n",
    "from nltk.corpus import stopwords\n",
    "from nltk.tokenize import word_tokenize\n",
    "import pandas as pd\n",
    "import numpy as np\n",
    "from sklearn.preprocessing import LabelEncoder\n",
    "from sklearn import model_selection\n",
    "from nltk.classify.scikitlearn import SklearnClassifier\n",
    "from sklearn.linear_model import LogisticRegression\n",
    "from sklearn.naive_bayes import MultinomialNB"
   ]
  },
  {
   "cell_type": "code",
   "execution_count": null,
   "metadata": {},
   "outputs": [],
   "source": [
    "#results file that you store the results(0's/1's) for the test file/data\n",
    "results = open(\"result.txt\", \"w+\")\n",
    "results.truncate(0)\n",
    "\n"
   ]
  },
  {
   "cell_type": "code",
   "execution_count": null,
   "metadata": {},
   "outputs": [],
   "source": [
    "\n",
    "#reading in the data\n",
    "df1 = pd.read_table('yelp_labelled.txt', header=None)\n",
    "df2 = pd.read_table('imdb_labelled.txt', header=None)\n",
    "df3 = pd.read_table('amazon_cells_labelled.txt', header=None)"
   ]
  },
  {
   "cell_type": "code",
   "execution_count": null,
   "metadata": {},
   "outputs": [],
   "source": [
    "#Concatinating the three datasets\n",
    "df = pd.concat([df1, df2, df3])\n",
    "\n",
    "#getting the column with all the classes(0/1 pos/neg)\n",
    "classes = df[1]\n",
    "\n",
    "# convert class labels to binary values, 0 = negative/0 and 1 = positive/1\n",
    "encoder = LabelEncoder()\n",
    "Y = encoder.fit_transform(classes)\n",
    "\n",
    "#storing each sentence in a list\n",
    "documents = df[0]"
   ]
  },
  {
   "cell_type": "code",
   "execution_count": null,
   "metadata": {},
   "outputs": [],
   "source": [
    "#cleaning the data\n",
    "\n",
    "# Replace money symbols with 'moneysymb' (£ can by typed with ALT key + 156)\n",
    "processed = documents.str.replace(r'£|\\$', 'moneysymb')\n",
    "\n",
    "# Replace numbers with 'numbr'\n",
    "processed = processed.str.replace(r'\\d+(\\.\\d+)?', 'numbr')\n",
    "\n",
    "# Remove punctuation\n",
    "processed = processed.str.replace(r'[^\\w\\d\\s]', ' ')\n",
    "\n",
    "# Replace whitespace between terms with a single space\n",
    "processed = processed.str.replace(r'\\s+', ' ')\n",
    "\n",
    "# Remove leading and trailing whitespace\n",
    "processed = processed.str.replace(r'^\\s+|\\s+?$', '')\n",
    "\n",
    "# converting words to lower case form\n",
    "processed = processed.str.lower()"
   ]
  },
  {
   "cell_type": "code",
   "execution_count": null,
   "metadata": {},
   "outputs": [],
   "source": [
    "# creating a bag of words vocabulary\n",
    "all_words = []\n",
    "\n",
    "for message in processed:\n",
    "    words = word_tokenize(message)\n",
    "    for w in words:\n",
    "        all_words.append(w)\n",
    "\n",
    "all_words = nltk.FreqDist(all_words)\n",
    "\n",
    "\n",
    "word_features = list(all_words.keys())"
   ]
  },
  {
   "cell_type": "code",
   "execution_count": null,
   "metadata": {},
   "outputs": [],
   "source": [
    "# The find_features function will determine which of the word features are contained in document\n",
    "def find_features(docs):\n",
    "    docs = str(docs)\n",
    "    words = word_tokenize(docs)\n",
    "    features = {}\n",
    "    for word in word_features:\n",
    "        features[word] = (word in words)\n",
    "\n",
    "    return features"
   ]
  },
  {
   "cell_type": "code",
   "execution_count": null,
   "metadata": {},
   "outputs": [],
   "source": [
    "# Finding features for all the docs\n",
    "all_docs = list(zip(processed, Y))\n",
    "# print(all_docs)\n",
    "\n",
    "# define a seed for reproducibility\n",
    "seed = 1\n",
    "np.random.seed = seed\n",
    "np.random.shuffle(all_docs)\n",
    "# calling find_features function for each sentence/document\n",
    "featuresets = [(find_features(text), label) for (text, label) in all_docs]\n",
    "\n",
    "# spliting the data into training data and test data\n",
    "train_data, test_data = model_selection.train_test_split(featuresets, test_size=0.15, random_state=seed)\n"
   ]
  },
  {
   "cell_type": "code",
   "execution_count": null,
   "metadata": {},
   "outputs": [],
   "source": [
    "#creating and training the logistic regression classifier\n",
    "def logistic_classifier(file):\n",
    "    file=str(file)\n",
    "    logistic_model = SklearnClassifier(LogisticRegression())\n",
    "\n",
    "    # train the model on the training data\n",
    "    logistic_model.train(train_data)\n",
    "    accuracy = nltk.classify.accuracy(logistic_model, test_data) * 100\n",
    "    print(\"Logistic Regression Classifier Accuracy: {}\".format(accuracy))\n",
    "\n",
    "    # Tag the test file.\n",
    "    with open(file, 'r') as fin:\n",
    "        for test_sentence in fin:\n",
    "            # Tokenize the line.\n",
    "            doc = word_tokenize(test_sentence.lower())\n",
    "            featurized_doc = {i: (i in doc) for i in word_features}\n",
    "            tagged_label = logistic_model.classify(featurized_doc)\n",
    "            results.write(str(tagged_label)+'\\n')"
   ]
  },
  {
   "cell_type": "code",
   "execution_count": null,
   "metadata": {},
   "outputs": [],
   "source": [
    "#creating and training the naive bayes classifier\n",
    "def naive_classifier(file):\n",
    "    file=str(file)\n",
    "    naive_bayes_model = SklearnClassifier(MultinomialNB())\n",
    "\n",
    "    # train the model on the training data\n",
    "    naive_bayes_model.train(train_data)\n",
    "\n",
    "    accuracy = nltk.classify.accuracy(naive_bayes_model, test_data) * 100\n",
    "    print(\"Naive Bayes Classifier Accuracy: {}\".format(accuracy))\n",
    "\n",
    "    # Tag the test file.\n",
    "    with open(file, 'r') as fin:\n",
    "        for test_sentence in fin:\n",
    "            # Tokenize the line.\n",
    "            doc = word_tokenize(test_sentence.lower())\n",
    "            featurized_doc = {i: (i in doc) for i in word_features}\n",
    "            tagged_label = naive_bayes_model.classify(featurized_doc)\n",
    "            results.write(str(tagged_label)+'\\n')"
   ]
  }
 ],
 "metadata": {
  "kernelspec": {
   "display_name": "Python 2",
   "language": "python",
   "name": "python2"
  },
  "language_info": {
   "codemirror_mode": {
    "name": "ipython",
    "version": 2
   },
   "file_extension": ".py",
   "mimetype": "text/x-python",
   "name": "python",
   "nbconvert_exporter": "python",
   "pygments_lexer": "ipython2",
   "version": "2.7.6"
  }
 },
 "nbformat": 4,
 "nbformat_minor": 0
}
