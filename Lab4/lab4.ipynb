{
 "cells": [
  {
   "cell_type": "code",
   "execution_count": null,
   "metadata": {
    "collapsed": true
   },
   "outputs": [],
   "source": [
    "from unnormalized import logistic_classifier as uLRC\n",
    "from unnormalized import naive_classifier as uNBC\n",
    "from normalized import logistic_classifier as nLRC\n",
    "from normalized import naive_classifier as nNBC"
   ]
  },
  {
   "cell_type": "code",
   "execution_count": null,
   "metadata": {},
   "outputs": [],
   "source": [
    "def main():\n",
    "    classifier=str(input('What classifier type would you like to use (nb/lr)? '))\n",
    "    version=str(input('What version would you like to use (n/u)? '))\n",
    "    testfile=str(input('Enter the test file name? '))\n",
    "\n",
    "    if (classifier=='nb'):\n",
    "        if (version=='n'):\n",
    "            print('Please wait for a moment...')\n",
    "            nNBC(testfile)\n",
    "            print('---------------------------------------------------')\n",
    "            print('Done, please check the results file')\n",
    "\n",
    "        elif (version=='u'):\n",
    "            print('Please wait for a moment...')\n",
    "            uNBC(testfile)\n",
    "            print('---------------------------------------------------')\n",
    "            print('Done, please check the results file')\n",
    "\n",
    "        else:\n",
    "            print(\"Enter valid version\")\n",
    "\n",
    "\n",
    "    elif (classifier=='lr'):\n",
    "        if (version=='n'):\n",
    "            print('Please wait for a moment...')\n",
    "            nLRC(testfile)\n",
    "            print('---------------------------------------------------')\n",
    "            print('Done, please check the results file')\n",
    "\n",
    "        elif (version=='u'):\n",
    "            print('Please wait for a moment...')\n",
    "            uLRC(testfile)\n",
    "            print('---------------------------------------------------')\n",
    "            print('Done, please check the results file')\n",
    "\n",
    "        else:\n",
    "            print(\"Enter valid version\")\n",
    "\n",
    "\n",
    "    else:\n",
    "        print(\"Enter valid classifier type\")\n"
   ]
  },
  {
   "cell_type": "code",
   "execution_count": null,
   "metadata": {},
   "outputs": [],
   "source": [
    "main()"
   ]
  }
 ],
 "metadata": {
  "kernelspec": {
   "display_name": "Python 2",
   "language": "python",
   "name": "python2"
  },
  "language_info": {
   "codemirror_mode": {
    "name": "ipython",
    "version": 2
   },
   "file_extension": ".py",
   "mimetype": "text/x-python",
   "name": "python",
   "nbconvert_exporter": "python",
   "pygments_lexer": "ipython2",
   "version": "2.7.6"
  }
 },
 "nbformat": 4,
 "nbformat_minor": 0
}
